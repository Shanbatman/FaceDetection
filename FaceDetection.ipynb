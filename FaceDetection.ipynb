{
 "cells": [
  {
   "cell_type": "markdown",
   "id": "fce99816-c85d-4ed5-aa23-287af961c9e9",
   "metadata": {},
   "source": [
    "<h1>1. Collect Images Using OpenCV"
   ]
  },
  {
   "cell_type": "code",
   "execution_count": null,
   "id": "9d5aaee5-d382-49b0-b716-392a0a0f14e4",
   "metadata": {},
   "outputs": [],
   "source": [
    "import os\n",
    "import time\n",
    "import uuid\n",
    "import cv2"
   ]
  },
  {
   "cell_type": "code",
   "execution_count": null,
   "id": "f3fb98a5-70ea-4845-93be-9a74dfd94b91",
   "metadata": {},
   "outputs": [],
   "source": [
    "IMAGES_PATH = os.path.join(\"data\", \"images\")\n",
    "number_images = 30"
   ]
  },
  {
   "cell_type": "code",
   "execution_count": null,
   "id": "3bcb2ff3-41e7-49df-a588-00fddbe07dc0",
   "metadata": {},
   "outputs": [],
   "source": [
    "cap = cv2.VideoCapture(0)\n",
    "for imgnum in range(number_images):\n",
    "    print(\"Collecting image {}\".format(imgnum))\n",
    "    ret, frame = cap.read()\n",
    "    imgname = os.path.join(IMAGES_PATH, f\"{str(uuid.uuid1())}.jpg\")\n",
    "    cv2.imwrite(imgname, frame)\n",
    "    cv2.imshow(\"frame\", frame)\n",
    "    time.sleep(0.5)\n",
    "\n",
    "    if cv2.waitKey(1) & 0xFF == ord('q'):\n",
    "        break\n",
    "cap.release()\n",
    "cv2.destroyAllWindows()"
   ]
  },
  {
   "cell_type": "code",
   "execution_count": null,
   "id": "1f367656-60b7-46b4-aa94-b986eee43e21",
   "metadata": {},
   "outputs": [],
   "source": [
    "!labelme"
   ]
  },
  {
   "cell_type": "markdown",
   "id": "4763114e-d077-4bc0-af5f-e4eaf564c67f",
   "metadata": {},
   "source": [
    "<h2>2. Review Dataset and Build Image Loading Function"
   ]
  },
  {
   "cell_type": "markdown",
   "id": "bf5d10aa-1144-4eeb-b42f-50283591c087",
   "metadata": {},
   "source": [
    "<h4>2.1 Import TF and Deps"
   ]
  },
  {
   "cell_type": "code",
   "execution_count": null,
   "id": "a01a20d6-12d6-4c54-a113-37d0396b4979",
   "metadata": {},
   "outputs": [],
   "source": [
    "import tensorflow as tf\n",
    "import json\n",
    "import numpy as np\n",
    "from matplotlib import pyplot as plt"
   ]
  },
  {
   "cell_type": "code",
   "execution_count": null,
   "id": "aff7defe-3c0c-4f2b-8a71-d0cd2292e3f1",
   "metadata": {},
   "outputs": [],
   "source": [
    "conda list \"(tensorflow|cudatoolkit|cudnn)\""
   ]
  },
  {
   "cell_type": "markdown",
   "id": "a4f039d0-f89e-4f56-bf6a-e66193acc91d",
   "metadata": {},
   "source": [
    "<h4>2.2 Limit GPU Memory Growth</h4>"
   ]
  },
  {
   "cell_type": "code",
   "execution_count": null,
   "id": "70e436e5-d712-4967-94ff-b629df5837b6",
   "metadata": {},
   "outputs": [],
   "source": [
    "# Avoid OOm errors\n",
    "gpus = tf.config.experimental.list_physical_devices(\"GPU\")\n",
    "for gpu in gpus:\n",
    "    tf.config.experimental.set_memory_growth(gpu, True)"
   ]
  },
  {
   "cell_type": "code",
   "execution_count": null,
   "id": "70832797-1889-459e-af74-e152e828b025",
   "metadata": {},
   "outputs": [],
   "source": [
    "tf.test.is_gpu_available()"
   ]
  },
  {
   "cell_type": "markdown",
   "id": "d65c8adf-4c2e-4612-826b-4fbdb91448e3",
   "metadata": {},
   "source": [
    "<h4>2.3 Load Image</h4>"
   ]
  },
  {
   "cell_type": "code",
   "execution_count": null,
   "id": "76046c5a-82df-4b10-add6-249f84d187be",
   "metadata": {},
   "outputs": [],
   "source": [
    "images = tf.data.Dataset.list_files(\"data\\\\images\\\\*.jpg\")"
   ]
  },
  {
   "cell_type": "code",
   "execution_count": null,
   "id": "265bcb5f-255b-422c-831e-3cf408d5683c",
   "metadata": {},
   "outputs": [],
   "source": [
    "images.as_numpy_iterator().next()"
   ]
  },
  {
   "cell_type": "code",
   "execution_count": null,
   "id": "bfb783e9-c7d8-4ad5-ac75-b21217eafeae",
   "metadata": {},
   "outputs": [],
   "source": [
    "def load_image(x):\n",
    "    byte_img = tf.io.read_file(x)\n",
    "    img = tf.io.decode_jpeg(byte_img)\n",
    "    return img"
   ]
  },
  {
   "cell_type": "code",
   "execution_count": null,
   "id": "e4880eaf-b6ca-4a3e-bee7-62368800b943",
   "metadata": {},
   "outputs": [],
   "source": [
    "images = images.map(load_image)"
   ]
  },
  {
   "cell_type": "code",
   "execution_count": null,
   "id": "cce94eb9-e1b7-464c-b0d6-783ea6d072c0",
   "metadata": {},
   "outputs": [],
   "source": [
    "images.as_numpy_iterator().next()"
   ]
  },
  {
   "cell_type": "markdown",
   "id": "8e8bea7d-858a-4814-b417-06bd057eb9df",
   "metadata": {},
   "source": [
    "<h4>2.4 View Raw Images</h4>"
   ]
  },
  {
   "cell_type": "code",
   "execution_count": null,
   "id": "63df3f10-f532-4d82-bfec-bfb4e6258ee2",
   "metadata": {},
   "outputs": [],
   "source": [
    "image_generator = images.batch(4).as_numpy_iterator()"
   ]
  },
  {
   "cell_type": "code",
   "execution_count": null,
   "id": "f04f60f2-79d6-4739-8e05-b4192b847ec9",
   "metadata": {},
   "outputs": [],
   "source": [
    "plot_images = image_generator.next()"
   ]
  },
  {
   "cell_type": "code",
   "execution_count": null,
   "id": "0a7826a7-d446-4a65-a26f-32c811a26fa7",
   "metadata": {},
   "outputs": [],
   "source": [
    "fig, ax = plt.subplots(ncols=4, figsize=(20,20))\n",
    "for idx, image in enumerate(plot_images):\n",
    "    ax[idx].imshow(image)\n",
    "plt.show()"
   ]
  },
  {
   "cell_type": "markdown",
   "id": "2e249793-9f94-42fe-a15e-703005c24536",
   "metadata": {},
   "source": [
    "<h4>2.5 Split the data</h4>"
   ]
  },
  {
   "cell_type": "markdown",
   "id": "dbd37535-2c85-4907-80a5-a7943ee5c58a",
   "metadata": {},
   "source": [
    "<h5>We do manually</h5>"
   ]
  },
  {
   "cell_type": "markdown",
   "id": "0598696c-99a7-457a-a9b6-986f6942db03",
   "metadata": {},
   "source": [
    "<h4>3. Set labels to their representative \"labels\" folder</h4>"
   ]
  },
  {
   "cell_type": "code",
   "execution_count": null,
   "id": "e6421c61-90d6-4395-9019-1a8c61fca426",
   "metadata": {},
   "outputs": [],
   "source": [
    "for folder in [\"train\", \"test\", \"val\"]:\n",
    "    for file in os.listdir(os.path.join(\"data\", folder, \"images\")):\n",
    "\n",
    "        filename = file.split(\".\")[0]+'.json'\n",
    "        existing_filepath = os.path.join(\"data\", \"labels\", filename)\n",
    "        if os.path.exists(existing_filepath):\n",
    "            new_filepath = os.path.join(\"data\", folder, \"labels\", filename)\n",
    "            os.replace(existing_filepath, new_filepath)"
   ]
  },
  {
   "cell_type": "markdown",
   "id": "b5dfccd9-4ebc-489b-bee2-7717fcb56d7d",
   "metadata": {},
   "source": [
    "<h2>4. Apply Image Augmentation on images and labels</h2>"
   ]
  },
  {
   "cell_type": "code",
   "execution_count": null,
   "id": "2f98df5f-cd71-471d-b626-fa6b95097f36",
   "metadata": {},
   "outputs": [],
   "source": [
    "import albumentations as alb"
   ]
  },
  {
   "cell_type": "code",
   "execution_count": null,
   "id": "b890cfdb-f7df-422d-8598-42f5ee9db9bc",
   "metadata": {},
   "outputs": [],
   "source": [
    " augmentor = alb.Compose([alb.RandomCrop(width=450, height=450),\n",
    "                         alb.HorizontalFlip(p=0.5),\n",
    "                         alb.RandomBrightnessContrast(p=0.2),\n",
    "                         alb.RandomGamma(p=0.2),\n",
    "                         alb.RGBShift(p=0.2),\n",
    "                         alb.VerticalFlip(p=0.5)],\n",
    "                        bbox_params=alb.BboxParams(format=\"albumentations\",\n",
    "                                                  label_fields=['class_labels']))"
   ]
  },
  {
   "cell_type": "markdown",
   "id": "f7260e9b-4e3f-427b-a5ca-32d5aa89adcd",
   "metadata": {},
   "source": [
    "<h3>Load a test image and annotation</h3>"
   ]
  },
  {
   "cell_type": "code",
   "execution_count": null,
   "id": "49354fe2-d865-4728-9899-9a55b8fbe2fc",
   "metadata": {},
   "outputs": [],
   "source": [
    "img = cv2.imread(os.path.join(\"data\", \"train\", \"images\", \"048a8090-10c2-11f0-ae55-e86538d2a726.jpg\"))"
   ]
  },
  {
   "cell_type": "code",
   "execution_count": null,
   "id": "994416d8-a39e-465f-9d39-0c31e6454315",
   "metadata": {
    "scrolled": true
   },
   "outputs": [],
   "source": [
    "img"
   ]
  },
  {
   "cell_type": "code",
   "execution_count": null,
   "id": "a71d1573-e5c0-4dfe-8722-e21262b7e9e2",
   "metadata": {},
   "outputs": [],
   "source": [
    "with open(os.path.join(\"data\", \"train\", \"labels\", \"048a8090-10c2-11f0-ae55-e86538d2a726.json\"), \"r\") as f:\n",
    "    label = json.load(f)"
   ]
  },
  {
   "cell_type": "code",
   "execution_count": null,
   "id": "767334ba-d740-4d4d-aec9-659ed9da89f5",
   "metadata": {
    "scrolled": true
   },
   "outputs": [],
   "source": [
    "label"
   ]
  },
  {
   "cell_type": "code",
   "execution_count": null,
   "id": "f6da4af5-585e-4dfc-8065-814d180dfce8",
   "metadata": {
    "scrolled": true
   },
   "outputs": [],
   "source": [
    "print(type(label), label['shapes'], type(label['shapes']), label[\"shapes\"][0], \n",
    "      type(label[\"shapes\"][0]), label[\"shapes\"][0]['points'])"
   ]
  },
  {
   "cell_type": "markdown",
   "id": "fab53e27-1b63-459a-8df1-49e6c0d03ae1",
   "metadata": {},
   "source": [
    "<h4>4.1 Extract Coordinates and Rescale</h4>"
   ]
  },
  {
   "cell_type": "code",
   "execution_count": null,
   "id": "ac7bb798-a260-45e2-9d4d-3d191b3be177",
   "metadata": {},
   "outputs": [],
   "source": [
    "coords = [0, 0, 0, 0]\n",
    "coords[0] = label[\"shapes\"][0]['points'][0][0]\n",
    "coords[1] = label[\"shapes\"][0]['points'][0][1]\n",
    "coords[2] = label[\"shapes\"][0]['points'][1][0]\n",
    "coords[3] = label[\"shapes\"][0]['points'][1][1]"
   ]
  },
  {
   "cell_type": "code",
   "execution_count": null,
   "id": "32d0b0b4-5742-4a4c-bf39-1934e577ed9b",
   "metadata": {},
   "outputs": [],
   "source": [
    "coords"
   ]
  },
  {
   "cell_type": "code",
   "execution_count": null,
   "id": "781184e2-b1f7-4470-a040-10cc175ae782",
   "metadata": {},
   "outputs": [],
   "source": [
    "coords = list(np.divide(coords, [640,480,640,480]))"
   ]
  },
  {
   "cell_type": "code",
   "execution_count": null,
   "id": "e91eb2bf-1b85-476d-a7a6-306356362a43",
   "metadata": {},
   "outputs": [],
   "source": [
    "coords"
   ]
  },
  {
   "cell_type": "code",
   "execution_count": null,
   "id": "c8afabee-78a1-4d48-99a5-8f21f6333efe",
   "metadata": {},
   "outputs": [],
   "source": [
    "augmented = augmentor(image=img, bboxes=[coords], class_labels=['face'])"
   ]
  },
  {
   "cell_type": "code",
   "execution_count": null,
   "id": "f67b80aa-2ce1-4d17-9acc-c1364f28a884",
   "metadata": {},
   "outputs": [],
   "source": [
    "augmented['bboxes']"
   ]
  },
  {
   "cell_type": "code",
   "execution_count": null,
   "id": "fdaab4bc-e8cc-4551-b08e-9fd295180340",
   "metadata": {},
   "outputs": [],
   "source": [
    "augmented['bboxes'][0]"
   ]
  },
  {
   "cell_type": "code",
   "execution_count": null,
   "id": "444ae378-3ffd-41b6-a59c-569566848c8a",
   "metadata": {
    "scrolled": true
   },
   "outputs": [],
   "source": [
    "augmented['image']"
   ]
  },
  {
   "cell_type": "code",
   "execution_count": null,
   "id": "6240ef95-92d9-4cc8-94d4-5f4716df81a0",
   "metadata": {},
   "outputs": [],
   "source": [
    "cv2.rectangle(augmented['image'],\n",
    "             tuple(np.multiply(augmented['bboxes'][0][:2], [450,450]).astype(int)),\n",
    "             tuple(np.multiply(augmented['bboxes'][0][2:], [450,450]).astype(int)),\n",
    "                   (255,0,0), 2)\n",
    "plt.imshow(augmented['image'])"
   ]
  },
  {
   "cell_type": "markdown",
   "id": "7f1357b8-1f08-46db-8efd-b1f241cfca6f",
   "metadata": {},
   "source": [
    "<h3>5 Create Data Pipeline</h3>"
   ]
  },
  {
   "cell_type": "code",
   "execution_count": null,
   "id": "780d5541-d6c3-4b7f-b727-600cd896b3af",
   "metadata": {},
   "outputs": [],
   "source": [
    "for partition in [\"train\", \"test\", \"val\"]:\n",
    "    for image in os.listdir(os.path.join(\"data\", partition, \"images\")):\n",
    "        img = cv2.imread(os.path.join(\"data\", partition, \"images\", image))\n",
    "\n",
    "        coords = [0,0,0.00001,0.00001]\n",
    "        label_path = os.path.join(\"data\", partition, \"labels\", f\"{image.split('.')[0]}.json\")\n",
    "        if os.path.exists(label_path):\n",
    "            with open(label_path, \"r\") as f:\n",
    "                label = json.load(f)\n",
    "\n",
    "            coords[0] = label['shapes'][0]['points'][0][0]\n",
    "            coords[1] = label['shapes'][0]['points'][0][1]\n",
    "            coords[2] = label['shapes'][0]['points'][1][0]\n",
    "            coords[3] = label['shapes'][0]['points'][1][1]\n",
    "            coords = list(np.divide(coords, [640,480,640,480]))\n",
    "\n",
    "        try:\n",
    "            for x in range(60):\n",
    "                augmented = augmentor(image=img, bboxes=[coords], class_labels=['face'])\n",
    "                cv2.imwrite(os.path.join('aug_data', partition, 'images', f\"{image.split('.')[0]}.{x}.jpg\"), augmented['image'])\n",
    "\n",
    "                annotation = {}\n",
    "                annotation[\"image\"] = image\n",
    "\n",
    "                if os.path.exists(label_path):\n",
    "                    if len(augmented['bboxes']) == 0:\n",
    "                        annotation[\"bbox\"] = [0,0,0,0]\n",
    "                        annotation[\"class\"] = 0\n",
    "                    else:\n",
    "                        annotation['bbox'] = augmented['bboxes'][0]\n",
    "                        annotation['class'] = 1\n",
    "                else:\n",
    "                    annotation['bbox'] = [0,0,0,0]\n",
    "                    annotation['class'] = 0\n",
    "                \n",
    "                with open(os.path.join(\"aug_data\", partition, \"labels\", f\"{image.split('.')[0]}.{x}.json\"), \"w\") as f:\n",
    "                    json.dump(annotation, f)\n",
    "\n",
    "        except Exception as e:\n",
    "            print(e)"
   ]
  },
  {
   "cell_type": "markdown",
   "id": "e126d88b-b7c6-4e21-bf3c-1fc6a7c77158",
   "metadata": {},
   "source": [
    "<h4>5.2 Load Augmented Images</h4>"
   ]
  },
  {
   "cell_type": "code",
   "execution_count": null,
   "id": "7ba0d889-271c-431d-ad81-1c050d2d715f",
   "metadata": {},
   "outputs": [],
   "source": [
    "train_images = tf.data.Dataset.list_files(\"aug_data\\\\train\\\\images\\\\*.jpg\", shuffle=False)\n",
    "train_images = train_images.map(load_image)\n",
    "train_images = train_images.map(lambda x: tf.image.resize(x, (120, 120)))\n",
    "train_images = train_images.map(lambda x: x/255)"
   ]
  },
  {
   "cell_type": "code",
   "execution_count": null,
   "id": "0be2ca99-ff1f-40ee-ad08-b96dfe38c4d7",
   "metadata": {},
   "outputs": [],
   "source": [
    "test_images = tf.data.Dataset.list_files(\"aug_data\\\\test\\\\images\\\\*.jpg\", shuffle=False)\n",
    "test_images = test_images.map(load_image)\n",
    "test_images = test_images.map(lambda x: tf.image.resize(x, (120,120)))\n",
    "test_images = test_images.map(lambda x: x/255)"
   ]
  },
  {
   "cell_type": "code",
   "execution_count": null,
   "id": "9cd34ad7-ef67-4928-b1aa-cfc060356aa9",
   "metadata": {},
   "outputs": [],
   "source": [
    "val_images = tf.data.Dataset.list_files(\"aug_data\\\\val\\\\images\\\\*.jpg\", shuffle=False)\n",
    "val_images = val_images.map(load_image)\n",
    "val_images = val_images.map(lambda x: tf.image.resize(x, (120,120)))\n",
    "val_images = val_images.map(lambda x: x/255)"
   ]
  },
  {
   "cell_type": "markdown",
   "id": "61f99e28-ee32-4ba0-b400-f89f1141ffd7",
   "metadata": {},
   "source": [
    " <h2>6. Prepare Labels</h2>"
   ]
  },
  {
   "cell_type": "markdown",
   "id": "cce7417e-6a0d-450b-bace-3ff7056c2c32",
   "metadata": {},
   "source": [
    "<h4>6.1 Build Label</h4>"
   ]
  },
  {
   "cell_type": "code",
   "execution_count": null,
   "id": "4dbcf0cf-14b9-4d14-831c-29e37c4c3060",
   "metadata": {},
   "outputs": [],
   "source": [
    "def load_labels(label_path):\n",
    "    with open(label_path.numpy(), 'r', encoding = \"utf-8\") as f:\n",
    "        label = json.load(f)\n",
    "    return [label['class']], label['bbox']"
   ]
  },
  {
   "cell_type": "markdown",
   "id": "7441656e-f0b8-4820-a6a9-3d64c911a6ba",
   "metadata": {},
   "source": [
    "<h4>6.2 Load Labels</h4>"
   ]
  },
  {
   "cell_type": "code",
   "execution_count": null,
   "id": "1565b47a-09f6-4718-b672-b03831966b50",
   "metadata": {},
   "outputs": [],
   "source": [
    "train_labels = tf.data.Dataset.list_files(\"aug_data\\\\train\\\\labels\\\\*.json\", shuffle=False)\n",
    "train_labels = train_labels.map(lambda x: tf.py_function(load_labels, [x], [tf.uint8, tf.float16]))"
   ]
  },
  {
   "cell_type": "code",
   "execution_count": null,
   "id": "fedda8b0-96dc-4cfa-8676-dd9b90275738",
   "metadata": {},
   "outputs": [],
   "source": [
    "test_labels = tf.data.Dataset.list_files(\"aug_data\\\\test\\\\labels\\\\*.json\", shuffle=False)\n",
    "test_labels = test_labels.map(lambda x: tf.py_function(load_labels, [x], [tf.uint8, tf.float16]))"
   ]
  },
  {
   "cell_type": "code",
   "execution_count": null,
   "id": "0b50f2b1-40d1-40a8-ac30-7b5b48e8c7ee",
   "metadata": {},
   "outputs": [],
   "source": [
    "val_labels = tf.data.Dataset.list_files(\"aug_data\\\\val\\\\labels\\\\*.json\", shuffle=False)\n",
    "val_labels = val_labels.map(lambda x: tf.py_function(load_labels, [x], [tf.uint8, tf.float16]))"
   ]
  },
  {
   "cell_type": "code",
   "execution_count": null,
   "id": "624844b3-7939-426d-943d-5bc17de6599e",
   "metadata": {},
   "outputs": [],
   "source": [
    "train_labels.as_numpy_iterator().next()"
   ]
  },
  {
   "cell_type": "markdown",
   "id": "c3492be2-94cd-4ea9-9b89-5454c5734b9d",
   "metadata": {},
   "source": [
    "<h2>7. Combine Label and Image Samples</h2>"
   ]
  },
  {
   "cell_type": "markdown",
   "id": "af108b2e-91d4-42d2-b1a0-650de1a29e1e",
   "metadata": {},
   "source": [
    "<h3>7.1 Check Partition Lengths</h3>"
   ]
  },
  {
   "cell_type": "code",
   "execution_count": null,
   "id": "8c60aaa8-2772-4bc5-b10d-b1890f271483",
   "metadata": {},
   "outputs": [],
   "source": [
    "len(train_images), len(train_labels), len(test_images), len(test_labels), len(val_images), len(val_labels)"
   ]
  },
  {
   "cell_type": "markdown",
   "id": "9c72aaa9-693f-4f15-ada5-48a1bae89167",
   "metadata": {},
   "source": [
    "<h3>7.2 Create Final Datasets</h3>"
   ]
  },
  {
   "cell_type": "code",
   "execution_count": null,
   "id": "6c9281e5-4e1a-415c-bd17-0c9ac35081f7",
   "metadata": {},
   "outputs": [],
   "source": [
    "train = tf.data.Dataset.zip((train_images, train_labels))\n",
    "train = train.shuffle(5000)\n",
    "train = train.batch(10)\n",
    "train = train.prefetch(5)"
   ]
  },
  {
   "cell_type": "code",
   "execution_count": null,
   "id": "91e8732f-5277-4abf-9cd3-e4e8a41cf5e8",
   "metadata": {},
   "outputs": [],
   "source": [
    "test = tf.data.Dataset.zip((test_images, test_labels))\n",
    "test = test.shuffle(1300)\n",
    "test = test.batch(10)\n",
    "test = test.prefetch(5)"
   ]
  },
  {
   "cell_type": "code",
   "execution_count": null,
   "id": "a8367a9e-2afa-4dd3-b285-cce1f7c62659",
   "metadata": {},
   "outputs": [],
   "source": [
    "val = tf.data.Dataset.zip((val_images, val_labels))\n",
    "val = val.shuffle(1000)\n",
    "val = val.batch(10)\n",
    "val = val.prefetch(5)"
   ]
  },
  {
   "cell_type": "code",
   "execution_count": null,
   "id": "d1de27b6-0a92-4aa2-9952-431cbc19b294",
   "metadata": {},
   "outputs": [],
   "source": [
    "train.as_numpy_iterator().next()[0].shape"
   ]
  },
  {
   "cell_type": "markdown",
   "id": "a0d25084-97a9-40f0-8edd-a35e7bae90c3",
   "metadata": {},
   "source": [
    "<h3>7.3 View Images</h3>"
   ]
  },
  {
   "cell_type": "code",
   "execution_count": null,
   "id": "ce4de4e6-bd60-413c-aeb8-54a7a810689a",
   "metadata": {},
   "outputs": [],
   "source": [
    "data_samples = train.as_numpy_iterator()"
   ]
  },
  {
   "cell_type": "code",
   "execution_count": null,
   "id": "f8c3836d-3ef0-4f87-b0c3-ca5196b88fca",
   "metadata": {},
   "outputs": [],
   "source": [
    "res = data_samples.next()"
   ]
  },
  {
   "cell_type": "code",
   "execution_count": null,
   "id": "3d14a9e0-1b41-413e-b605-82feaed28eb4",
   "metadata": {},
   "outputs": [],
   "source": [
    "fig, ax = plt.subplots(ncols=4, figsize=(20,20))\n",
    "for idx in range(4):\n",
    "    sample_image = res[0][idx].copy()\n",
    "    sample_coords = res[1][1][idx]\n",
    "    \n",
    "    cv2.rectangle(sample_image,\n",
    "                 tuple(np.multiply(sample_coords[:2], [120,120]).astype(int)),\n",
    "                 tuple(np.multiply(sample_coords[2:], [120,120]).astype(int)),\n",
    "                 (255,0,0), 2)\n",
    "    \n",
    "    ax[idx].imshow(sample_image)"
   ]
  },
  {
   "cell_type": "markdown",
   "id": "d1018cfa-29e0-4465-b1a5-d6f3d91ca9a7",
   "metadata": {},
   "source": [
    "<h2>8 Build Neural Network</h2>"
   ]
  },
  {
   "cell_type": "code",
   "execution_count": null,
   "id": "8f901c96-efaf-4db7-bd27-fa826de59d10",
   "metadata": {},
   "outputs": [],
   "source": [
    "from tensorflow.keras.models import Model\n",
    "from tensorflow.keras.layers import Input, Conv2D, Dense, GlobalMaxPooling2D\n",
    "from tensorflow.keras.applications import VGG16"
   ]
  },
  {
   "cell_type": "code",
   "execution_count": null,
   "id": "27d605bd-bbff-4ce2-9f03-2de8a0cd607c",
   "metadata": {},
   "outputs": [],
   "source": [
    "vgg = VGG16(include_top=False)"
   ]
  },
  {
   "cell_type": "code",
   "execution_count": null,
   "id": "82c8d66a-f6d6-4ef6-b0ec-085cff05218c",
   "metadata": {},
   "outputs": [],
   "source": [
    "def build_model():\n",
    "    input_layer = Input(shape=(120, 120, 3))\n",
    "    \n",
    "    vgg = VGG16(include_top=False)(input_layer)\n",
    "    \n",
    "    # Classification Model\n",
    "    f1 = GlobalMaxPooling2D()(vgg)\n",
    "    class1 = Dense(2048, activation='relu')(f1)\n",
    "    class2 = Dense(1, activation='sigmoid')(class1)\n",
    "    \n",
    "    # Bounding Box model\n",
    "    f2 = GlobalMaxPooling2D()(vgg)\n",
    "    regrees1 = Dense(2048, activation='relu')(f2)\n",
    "    regrees2 = Dense(4, activation='sigmoid')(regrees1)\n",
    "    \n",
    "    facetracker = Model(inputs=input_layer, outputs=[class2, regrees2])\n",
    "    return facetracker"
   ]
  },
  {
   "cell_type": "code",
   "execution_count": null,
   "id": "9855e420-970c-4cf3-ab3b-fe157d6c675e",
   "metadata": {},
   "outputs": [],
   "source": [
    "facetracker = build_model()"
   ]
  },
  {
   "cell_type": "code",
   "execution_count": null,
   "id": "c43c1b5f-4355-44d7-ab0b-c3d1c68b9679",
   "metadata": {},
   "outputs": [],
   "source": [
    "facetracker.summary()"
   ]
  },
  {
   "cell_type": "markdown",
   "id": "88e77eb0-acaf-4735-83ec-f72b0628ca17",
   "metadata": {},
   "source": [
    "<h4>Test Our Model On Single Example</h4>"
   ]
  },
  {
   "cell_type": "code",
   "execution_count": null,
   "id": "563e30c8-fddd-4921-abf9-f53ad8f4b7a7",
   "metadata": {},
   "outputs": [],
   "source": [
    "X,Y = train.as_numpy_iterator().next()"
   ]
  },
  {
   "cell_type": "code",
   "execution_count": null,
   "id": "84b14f88-429a-457d-b510-578a48a54eae",
   "metadata": {},
   "outputs": [],
   "source": [
    "X.shape"
   ]
  },
  {
   "cell_type": "code",
   "execution_count": null,
   "id": "88fea3cb-15c1-4d58-ba5d-a1f0d05bc6e8",
   "metadata": {},
   "outputs": [],
   "source": [
    "classes, coords = facetracker.predict(X)"
   ]
  },
  {
   "cell_type": "code",
   "execution_count": null,
   "id": "e6af0026-a4a1-4661-98cd-3c4d4cdf7756",
   "metadata": {},
   "outputs": [],
   "source": [
    "Y"
   ]
  },
  {
   "cell_type": "code",
   "execution_count": null,
   "id": "e4a37db9-f4cb-4c43-ac93-37d11000dc51",
   "metadata": {},
   "outputs": [],
   "source": [
    "classes, coords"
   ]
  },
  {
   "cell_type": "markdown",
   "id": "d97b8930-dd96-49bc-984c-78123bd09162",
   "metadata": {},
   "source": [
    "<h2>9. Create Localization Loss</h2>"
   ]
  },
  {
   "cell_type": "code",
   "execution_count": null,
   "id": "33ce6ef5-4686-4c13-8e65-7cbe1e2e39f6",
   "metadata": {},
   "outputs": [],
   "source": [
    "def localization_loss(y_true, yhat):\n",
    "    delta_coord = tf.reduce_sum(tf.square(y_true[:, :2] - yhat[:, :2]))\n",
    "    \n",
    "    h_true = y_true[:, 3] - y_true[:, 1]\n",
    "    w_true = y_true[:, 2] - y_true[:, 0]\n",
    "    \n",
    "    h_pred = yhat[:, 3] - yhat[:, 1]\n",
    "    w_pred = yhat[:, 2] - yhat[:, 0]\n",
    "    \n",
    "    delta_size = tf.reduce_sum(tf.square(w_true - w_pred) + tf.square(h_true - h_pred))\n",
    "    \n",
    "    return delta_coord + delta_size"
   ]
  },
  {
   "cell_type": "code",
   "execution_count": null,
   "id": "d09111f6-9d9e-47a9-adf8-34705670c88c",
   "metadata": {},
   "outputs": [],
   "source": [
    "classloss = tf.keras.losses.BinaryCrossentropy()\n",
    "regressloss = localization_loss"
   ]
  },
  {
   "cell_type": "markdown",
   "id": "3d39239d-1d5c-4282-8a83-6b4b437ecbeb",
   "metadata": {},
   "source": [
    "<h4>9.1 Define Optimizer and LR</h4>"
   ]
  },
  {
   "cell_type": "code",
   "execution_count": null,
   "id": "e886afe0-ef97-4355-95a3-33d5b67ff815",
   "metadata": {},
   "outputs": [],
   "source": [
    "batches_per_epoch = len(train)\n",
    "lr_decay = (1./0.75 -1)/batches_per_epoch"
   ]
  },
  {
   "cell_type": "code",
   "execution_count": null,
   "id": "4f24a8f7-4391-4d3d-bb50-813a184e4e17",
   "metadata": {},
   "outputs": [],
   "source": [
    "lr_decay"
   ]
  },
  {
   "cell_type": "code",
   "execution_count": null,
   "id": "de6c1051-1e14-4695-9397-6e7d4cd56b94",
   "metadata": {},
   "outputs": [],
   "source": [
    "opt = tf.keras.optimizers.Adam(learning_rate=0.0001, decay=lr_decay)"
   ]
  },
  {
   "cell_type": "markdown",
   "id": "48f0a286-80b2-4751-a2c3-60b10a98efb3",
   "metadata": {},
   "source": [
    "<h2>10. Create Custom Training</h2>"
   ]
  },
  {
   "cell_type": "code",
   "execution_count": null,
   "id": "ee5796f2-b058-4978-838c-232132087d6d",
   "metadata": {},
   "outputs": [],
   "source": [
    "class FaceTracker(Model):\n",
    "    def __init__(self, facetracker, **kwargs):\n",
    "        super().__init__(**kwargs)\n",
    "        self.model = facetracker\n",
    "        \n",
    "    def compile(self, opt, classloss, localizationloss, **kwargs):\n",
    "        super().compile(**kwargs)\n",
    "        self.closs = classloss\n",
    "        self.lloss = localizationloss\n",
    "        self.opt = opt\n",
    "        \n",
    "    def train_step(self, batch, **kwargs):\n",
    "        \n",
    "        X, y = batch\n",
    "        \n",
    "        with tf.GradientTape() as tape:\n",
    "            classes, coords = self.model(X, training=True)\n",
    "            \n",
    "            batch_classloss = self.closs(y[0], classes)\n",
    "            batch_lacalizationloss = self.lloss(tf.cast(y[1], tf.float32), coords)\n",
    "            \n",
    "            total_loss = batch_lacalizationloss + 0.5*batch_classloss\n",
    "            \n",
    "            grad = tape.gradient(total_loss, self.model.trainable_variables)\n",
    "            \n",
    "        opt.apply_gradients(zip(grad, self.model.trainable_variables))\n",
    "        \n",
    "        return {\"total_loss\": total_loss, \"class_loss\": batch_classloss, \"regress_loss\": batch_lacalizationloss}\n",
    "        \n",
    "    def test_step(self, batch, **kwargs):\n",
    "        X, y = batch\n",
    "        \n",
    "        classes, coords = self.model(X, training=True)\n",
    "        \n",
    "        batch_classloss = self.closs(y[0], classes)\n",
    "        batch_regressloss = self.lloss(tf.cast(y[1], tf.float32), coords)\n",
    "        \n",
    "        total_loss = batch_regressloss + 0.5*batch_classloss\n",
    "        \n",
    "        return {\"total_loss\": total_loss, \"class_loss\": batch_classloss, \"regress_loss\": batch_regressloss}\n",
    "        \n",
    "    def call(self, X, **kwargs):\n",
    "        return self.model(X, **kwargs)"
   ]
  },
  {
   "cell_type": "code",
   "execution_count": null,
   "id": "805303c8-a907-49f8-862f-3a75bfe3e415",
   "metadata": {},
   "outputs": [],
   "source": [
    "model = FaceTracker(facetracker)"
   ]
  },
  {
   "cell_type": "code",
   "execution_count": null,
   "id": "31132bf7-b242-46c4-902b-cbfd07ed2b71",
   "metadata": {},
   "outputs": [],
   "source": [
    "model.compile(opt, classloss, regressloss)"
   ]
  },
  {
   "cell_type": "markdown",
   "id": "8248ce9c-10d6-4a72-9db7-38695e273421",
   "metadata": {},
   "source": [
    "<h3>10.2 Train</h3>"
   ]
  },
  {
   "cell_type": "code",
   "execution_count": null,
   "id": "16b3c6de-e39c-462b-9e76-c258c0f7826d",
   "metadata": {},
   "outputs": [],
   "source": [
    "logdir = \"logs\""
   ]
  },
  {
   "cell_type": "code",
   "execution_count": null,
   "id": "5711794c-2446-44a2-b941-55c5feaa3686",
   "metadata": {},
   "outputs": [],
   "source": [
    "tensorboard_callback = tf.keras.callbacks.TensorBoard(log_dir=logdir)"
   ]
  },
  {
   "cell_type": "code",
   "execution_count": null,
   "id": "6e6cf034-f0dd-4481-b190-c91a85272257",
   "metadata": {},
   "outputs": [],
   "source": [
    "hist = model.fit(train, epochs=5, validation_data=val, callbacks=[tensorboard_callback])"
   ]
  },
  {
   "cell_type": "markdown",
   "id": "17dfd2a4-d225-4cd3-b6bc-1279d15245b5",
   "metadata": {},
   "source": [
    "<h3>10.3 Plot Performance</h3>"
   ]
  },
  {
   "cell_type": "code",
   "execution_count": null,
   "id": "c03c1bc2-f49f-4312-af93-e8417b1b1df0",
   "metadata": {},
   "outputs": [],
   "source": [
    "import matplotlib.pyplot as plt"
   ]
  },
  {
   "cell_type": "code",
   "execution_count": null,
   "id": "68b0d1f0-a160-44dc-8a3a-c1faf3751212",
   "metadata": {},
   "outputs": [],
   "source": [
    "fig, ax = plt.subplots(ncols=3, figsize=(20,5))\n",
    "\n",
    "ax[0].plot(hist.history['total_loss'], color='teal', label='loss')\n",
    "ax[0].plot(hist.history['val_total_loss'], color='orange', label='val loss')\n",
    "ax[0].title.set_text('Loss')\n",
    "ax[0].legend()\n",
    "\n",
    "ax[1].plot(hist.history['class_loss'], color='teal', label='class loss')\n",
    "ax[1].plot(hist.history['val_class_loss'], color='orange', label='val class loss')\n",
    "ax[1].title.set_text('Classification Loss')\n",
    "ax[1].legend()\n",
    "\n",
    "ax[2].plot(hist.history['regress_loss'], color='teal', label='regress loss')\n",
    "ax[2].plot(hist.history['val_regress_loss'], color='orange', label='val regress loss')\n",
    "ax[2].title.set_text('Regression Loss')\n",
    "ax[2].legend()\n",
    "\n",
    "plt.show()"
   ]
  },
  {
   "cell_type": "markdown",
   "id": "fa93b941-5df7-4aef-8a17-9b58f522c377",
   "metadata": {},
   "source": [
    "<h2>11. Make Prediction</h2>"
   ]
  },
  {
   "cell_type": "code",
   "execution_count": null,
   "id": "3abb4b32-2ab8-4bec-acbd-385a2e588fc9",
   "metadata": {},
   "outputs": [],
   "source": [
    "test_data = test.as_numpy_iterator()"
   ]
  },
  {
   "cell_type": "code",
   "execution_count": null,
   "id": "cfa348d7-32db-48ba-a6ea-faa096f31341",
   "metadata": {},
   "outputs": [],
   "source": [
    "import cv2"
   ]
  },
  {
   "cell_type": "code",
   "execution_count": null,
   "id": "e9e01ffb-2285-49ad-8c9c-2717b556eed7",
   "metadata": {},
   "outputs": [],
   "source": [
    "test_sample = test_data.next()"
   ]
  },
  {
   "cell_type": "code",
   "execution_count": null,
   "id": "36f5092e-ec15-4b72-af03-0148623e1164",
   "metadata": {},
   "outputs": [],
   "source": [
    "yhat = facetracker.predict(test_sample[0])"
   ]
  },
  {
   "cell_type": "code",
   "execution_count": null,
   "id": "cbc5ee3a-136b-4531-8d58-333bc37ee5f8",
   "metadata": {},
   "outputs": [],
   "source": [
    "fig, ax = plt.subplots(ncols=4, figsize=(20,20))\n",
    "for idx in range(4):\n",
    "    sample_image = test_sample[0][idx]\n",
    "    sample_coords = yhat[1][idx]\n",
    "    \n",
    "    if yhat[0][idx] > 0.5:\n",
    "        cv2.rectangle(sample_image,\n",
    "                      tuple(np.multiply(sample_coords[:2], [120,120]).astype(int)),\n",
    "                      tuple(np.multiply(sample_coords[2:], [120,120]).astype(int)),\n",
    "                           (255,0,0), 2)\n",
    "        \n",
    "    ax[idx].imshow(sample_image)"
   ]
  },
  {
   "cell_type": "markdown",
   "id": "90c32321-8d47-4ac5-a283-34e41c34c0c8",
   "metadata": {},
   "source": [
    "<h3>11.2 Save the Model</h3>"
   ]
  },
  {
   "cell_type": "code",
   "execution_count": null,
   "id": "0696f9d5-6182-4304-bd88-fbe1962011d7",
   "metadata": {},
   "outputs": [],
   "source": [
    "from tensorflow.keras.models import load_model"
   ]
  },
  {
   "cell_type": "code",
   "execution_count": null,
   "id": "8ec9cd18-798d-45af-8f17-e00e42863d06",
   "metadata": {},
   "outputs": [],
   "source": [
    "facetracker.save('facetracker.h5')"
   ]
  },
  {
   "cell_type": "code",
   "execution_count": null,
   "id": "8e579ae0-9d21-43cd-9841-27f15ff114c7",
   "metadata": {},
   "outputs": [],
   "source": [
    "facetracker = load_model('facetracker.h5')"
   ]
  },
  {
   "cell_type": "markdown",
   "id": "1728e0f5-9a8a-4eec-97f0-c0f97617245e",
   "metadata": {},
   "source": [
    "<h3>11.3 Real Time Detection</h3>"
   ]
  },
  {
   "cell_type": "code",
   "execution_count": null,
   "id": "0e264030-9627-4355-8e25-97d35cb6d131",
   "metadata": {},
   "outputs": [],
   "source": [
    "cap = cv2.VideoCapture(0)\n",
    "while cap.isOpened():\n",
    "    _ , frame = cap.read()\n",
    "    frame = frame[50:500, 50:500, :]\n",
    "    \n",
    "    rgb = cv2.cvtColor(frame, cv2.COLOR_BGR2RGB)\n",
    "    resized = tf.image.resize(rgb, (120,120))\n",
    "    \n",
    "    yhat = facetracker.predict(np.expand_dims(resized/255,0))\n",
    "    sample_coords = yhat[1][0]\n",
    "    \n",
    "    if yhat[0] > 0.5:\n",
    "        # Controls the main rectangle\n",
    "        cv2.rectangle(frame,\n",
    "                      tuple(np.multiply(sample_coords[:2], [450,450]).astype(int)),\n",
    "                      tuple(np.multiply(sample_coords[2:], [450,450]).astype(int)),\n",
    "                           (255,0,0), 2)\n",
    "        #Controls the label rectangle\n",
    "        cv2.rectangle(frame,\n",
    "                      tuple(np.add(np.multiply(sample_coords[:2], [450,450]).astype(int),\n",
    "                                   [0, -30])),\n",
    "                      tuple(np.add(np.multiply(sample_coords[:2], [450,450]).astype(int),\n",
    "                                   [80,0])),\n",
    "                           (255,0,0), -1)\n",
    "        # Controls the text rendered\n",
    "        cv2.putText(frame, \"face\", tuple(np.add(np.multiply(sample_coords[:2], [450,450]).astype(int),\n",
    "                                               [0,-5])),\n",
    "                    cv2.FONT_HERSHEY_SIMPLEX, 1, (255,255,255), 2, cv2.LINE_AA)\n",
    "        \n",
    "    cv2.imshow(\"FaceTrack\", frame)\n",
    "    if cv2.waitKey(1) & 0xFF == ord('q'):\n",
    "        break\n",
    "cap.release()\n",
    "cv2.destroyAllWindows()"
   ]
  }
 ],
 "metadata": {
  "kernelspec": {
   "display_name": "Python [conda env:tensorflow]",
   "language": "python",
   "name": "conda-env-tensorflow-py"
  },
  "language_info": {
   "codemirror_mode": {
    "name": "ipython",
    "version": 3
   },
   "file_extension": ".py",
   "mimetype": "text/x-python",
   "name": "python",
   "nbconvert_exporter": "python",
   "pygments_lexer": "ipython3",
   "version": "3.9.18"
  }
 },
 "nbformat": 4,
 "nbformat_minor": 5
}
